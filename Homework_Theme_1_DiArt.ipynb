{
  "nbformat": 4,
  "nbformat_minor": 0,
  "metadata": {
    "colab": {
      "provenance": [],
      "authorship_tag": "ABX9TyMV4BC7YzVk9MyRyYTP+CcR"
    },
    "kernelspec": {
      "name": "python3",
      "display_name": "Python 3"
    },
    "language_info": {
      "name": "python"
    }
  },
  "cells": [
    {
      "cell_type": "markdown",
      "source": [
        "# Задание №1\n",
        "\n",
        "Дана переменная `ids`, в которой хранится словарь `dict`, содержащий геометки для каждого пользователя (пример структуры данных приведён ниже). Вам нужно написать программу, которая выведет на экран множество уникальных геометок всех пользователей."
      ],
      "metadata": {
        "id": "DrmQA1tQo_OH"
      }
    },
    {
      "cell_type": "code",
      "source": [
        "ids = {'user1': [213, 213, 213, 15, 213],\n",
        "       'user2': [54, 54, 119, 119, 119],\n",
        "       'user3': [213, 98, 98, 35]}\n",
        "#Результат: {98, 35, 15, 213, 54, 119}\n",
        "#type(ids)=dict"
      ],
      "metadata": {
        "id": "ywKtPLTz62Nk"
      },
      "execution_count": null,
      "outputs": []
    },
    {
      "cell_type": "code",
      "execution_count": null,
      "metadata": {
        "colab": {
          "base_uri": "https://localhost:8080/"
        },
        "id": "G2t9PSdU6zmI",
        "outputId": "9393cfd8-41c0-4314-f054-6e6aed661ae5"
      },
      "outputs": [
        {
          "output_type": "stream",
          "name": "stdout",
          "text": [
            "{98, 35, 15, 213, 54, 119}\n"
          ]
        }
      ],
      "source": [
        "res = sum(ids.values(), []) #sum выведет значения value из всех key → [213, 213, 213, 15, 213, 54, 54, 119, 119, 119, 213, 98, 98, 35]\n",
        "print(str(set(res))) #set уберет дубли → {15, 35, 54, 98, 119, 213}, а str преобразует строку как в примере → {98, 35, 15, 213, 54, 119}"
      ]
    },
    {
      "cell_type": "markdown",
      "source": [
        "# Задание №2\n",
        "\n",
        "Дана переменная `queries`, в которой хранится список `list` поисковых запросов пользователя (пример структуры данных приведён ниже). Вам нужно написать программу, которая выведет на экран распределение количества слов в запросах в требуемом виде."
      ],
      "metadata": {
        "id": "3o7QeAqJpICT"
      }
    },
    {
      "cell_type": "code",
      "source": [
        "queries = [\n",
        "    'смотреть сериалы онлайн',\n",
        "    'новости спорта',\n",
        "    'афиша кино',\n",
        "    'курс доллара',\n",
        "    'сериалы этим летом',\n",
        "    'курс по питону',\n",
        "    'сериалы про спорт',\n",
        "]\n",
        "#Результат:\n",
        "# Поисковых запросов, содержащих 2 слов(а): 42.86%\n",
        "# Поисковых запросов, содержащих 3 слов(а): 57.14%\n",
        "# type(queries) = list"
      ],
      "metadata": {
        "id": "tloBkZSrpKO_"
      },
      "execution_count": null,
      "outputs": []
    },
    {
      "cell_type": "code",
      "source": [
        "duplicate_dict={}\n",
        "for i, line in enumerate(queries):\n",
        "  words = line.split()\n",
        "  word_count = len(words)\n",
        "\n",
        "  x = word_count\n",
        "\n",
        "  if x in duplicate_dict:\n",
        "    duplicate_dict[x] += 1\n",
        "  else:\n",
        "    duplicate_dict[x] = 1\n",
        "\n",
        "\n",
        "print(duplicate_dict)"
      ],
      "metadata": {
        "colab": {
          "base_uri": "https://localhost:8080/"
        },
        "id": "2K8NQ3cBqOPv",
        "outputId": "f5307cb5-2ed0-4ed1-8ad6-ca4419083bf8"
      },
      "execution_count": null,
      "outputs": [
        {
          "output_type": "stream",
          "name": "stdout",
          "text": [
            "{3: 4, 2: 3}\n"
          ]
        }
      ]
    },
    {
      "cell_type": "code",
      "source": [
        "for key, value in (duplicate_dict.items()):\n",
        "  print(\"Поисковых запросов, содержащих \", key, \"слов(а):\", round(value / sum(duplicate_dict.values())*100,2),\"%\")"
      ],
      "metadata": {
        "colab": {
          "base_uri": "https://localhost:8080/"
        },
        "id": "YrSePLSRqTux",
        "outputId": "880f1981-dd2e-43c3-8219-8d3225cc2862"
      },
      "execution_count": null,
      "outputs": [
        {
          "output_type": "stream",
          "name": "stdout",
          "text": [
            "Поисковых запросов, содержащих  3 слов(а): 57.14 %\n",
            "Поисковых запросов, содержащих  2 слов(а): 42.86 %\n"
          ]
        }
      ]
    }
  ]
}